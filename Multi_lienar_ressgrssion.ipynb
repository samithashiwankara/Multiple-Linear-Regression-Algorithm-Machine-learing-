{
  "nbformat": 4,
  "nbformat_minor": 0,
  "metadata": {
    "colab": {
      "name": "Multi lienar ressgrssion",
      "provenance": [],
      "collapsed_sections": []
    },
    "kernelspec": {
      "name": "python3",
      "display_name": "Python 3"
    },
    "language_info": {
      "name": "python"
    }
  },
  "cells": [
    {
      "cell_type": "markdown",
      "source": [
        "#import libaries \n"
      ],
      "metadata": {
        "id": "Hi8wZg8o66EQ"
      }
    },
    {
      "cell_type": "code",
      "source": [
        "import numpy as np\n",
        "import pandas as pd \n",
        "import matplotlib.pyplot as plt\n"
      ],
      "metadata": {
        "id": "wHqEfqGQ69vl"
      },
      "execution_count": 1,
      "outputs": []
    },
    {
      "cell_type": "markdown",
      "source": [
        "#import dataset \n"
      ],
      "metadata": {
        "id": "xZwVJ89b7Njn"
      }
    },
    {
      "cell_type": "code",
      "source": [
        "dataset=pd.read_csv(\"50_Startups.csv\")\n",
        "X= dataset.iloc[:,:-1].values\n",
        "y= dataset.iloc[:,-1].values\n"
      ],
      "metadata": {
        "id": "vjAL8RAe7PwF"
      },
      "execution_count": 2,
      "outputs": []
    },
    {
      "cell_type": "markdown",
      "source": [
        "#Encode categorical varibles "
      ],
      "metadata": {
        "id": "h6gc9LbW99ia"
      }
    },
    {
      "cell_type": "code",
      "source": [
        "from sklearn.compose import ColumnTransformer\n",
        "from sklearn.preprocessing import OneHotEncoder \n",
        "\n",
        "ct = ColumnTransformer(transformers=[(\"encode\",OneHotEncoder(),[3])], remainder=\"passthrough\")\n",
        "X = np.array(ct.fit_transform(X))"
      ],
      "metadata": {
        "id": "Bwo5eKKH-GnK"
      },
      "execution_count": 4,
      "outputs": []
    },
    {
      "cell_type": "markdown",
      "source": [
        "#Split Dataset"
      ],
      "metadata": {
        "id": "ww7gFEDs_a6L"
      }
    },
    {
      "cell_type": "code",
      "source": [
        "from sklearn.model_selection import train_test_split\n",
        "\n",
        "X_train , X_test , y_train , y_test = train_test_split(X,y,test_size=0.2, random_state=0)"
      ],
      "metadata": {
        "id": "rLg1r5O7_dR9"
      },
      "execution_count": 5,
      "outputs": []
    },
    {
      "cell_type": "markdown",
      "source": [
        "#Linear model"
      ],
      "metadata": {
        "id": "oujNQ60-ABpC"
      }
    },
    {
      "cell_type": "code",
      "source": [
        "from sklearn.linear_model import LinearRegression\n",
        "\n",
        "regressor = LinearRegression()\n",
        "regressor.fit(X_train, y_train)"
      ],
      "metadata": {
        "colab": {
          "base_uri": "https://localhost:8080/"
        },
        "id": "jwtOsEkYAEfp",
        "outputId": "73ca0bf0-1e91-4ad7-e33a-babefcdf0c47"
      },
      "execution_count": 9,
      "outputs": [
        {
          "output_type": "execute_result",
          "data": {
            "text/plain": [
              "LinearRegression()"
            ]
          },
          "metadata": {},
          "execution_count": 9
        }
      ]
    },
    {
      "cell_type": "markdown",
      "source": [
        "#predictions \n"
      ],
      "metadata": {
        "id": "NdedlffbAtER"
      }
    },
    {
      "cell_type": "code",
      "source": [
        "y_pred = regressor.predict(X_test)\n",
        "np.set_printoptions(precision =2)\n",
        "print(np.concatenate((y_test.reshape(len(y_test),1),y_pred.reshape(len(y_pred),1)),1))\n"
      ],
      "metadata": {
        "colab": {
          "base_uri": "https://localhost:8080/"
        },
        "id": "Q2-uGLTAAwZg",
        "outputId": "05d464b2-f78c-4d23-9d80-aa56db5b2362"
      },
      "execution_count": 10,
      "outputs": [
        {
          "output_type": "stream",
          "name": "stdout",
          "text": [
            "[[103282.38 103015.2 ]\n",
            " [144259.4  132582.28]\n",
            " [146121.95 132447.74]\n",
            " [ 77798.83  71976.1 ]\n",
            " [191050.39 178537.48]\n",
            " [105008.31 116161.24]\n",
            " [ 81229.06  67851.69]\n",
            " [ 97483.56  98791.73]\n",
            " [110352.25 113969.44]\n",
            " [166187.94 167921.07]]\n"
          ]
        }
      ]
    }
  ]
}